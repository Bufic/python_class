{
 "cells": [
  {
   "cell_type": "code",
   "execution_count": 15,
   "metadata": {},
   "outputs": [
    {
     "name": "stdout",
     "output_type": "stream",
     "text": [
      "Hold umbrella just in case it gets heavy\n"
     ]
    }
   ],
   "source": [
    "weather = \"yes\"\n",
    "\n",
    "if weather == input(\"Is it raining, drizzling, sunny or cloudy? (Enter here: )\"):\n",
    "    print(\"Come out with an umbrella\")\n",
    "elif \"drizzling\":\n",
    "    print(\"Hold umbrella just in case it gets heavy\")\n",
    "elif \"sunny\":\n",
    "    print(\"Wear something light\")\n",
    "elif \"cloudy\":\n",
    "    print(\"Best time for a walk\")            \n",
    "else:\n",
    "    print(\"Stay at home\")    \n"
   ]
  },
  {
   "cell_type": "code",
   "execution_count": null,
   "metadata": {},
   "outputs": [],
   "source": [
    "if it rains:\n",
    "    print out, \"Come out with an umbrella\"\n",
    "else:\n",
    "    print out, \"Leave umbrella at home\"    "
   ]
  },
  {
   "cell_type": "code",
   "execution_count": 49,
   "metadata": {},
   "outputs": [
    {
     "name": "stdout",
     "output_type": "stream",
     "text": [
      "<class 'list'>\n",
      "['Laptop', 'laptop charger', 'mouse', 'phone', 'perfume', 'earplug']\n",
      "['Laptop', 'laptop charger', 'mouse', 'phone', 'perfume', 'earplug', 'diaper']\n",
      "['Laptop', 'laptop charger', 'mouse', 'phone', 'perfume', 'earplug', 'diaper']\n",
      "['mouse', 'Laptop', 'mouse', 'laptop charger', 'mouse', 'mouse', 'phone', 'perfume', 'earplug', 'diaper']\n",
      "[]\n"
     ]
    }
   ],
   "source": [
    "bag = [\"Laptop\", \"laptop charger\", \"mouse\", \"phone\", \"perfume\", \"earplug\"]\n",
    "print(type(bag))\n",
    "print(bag)\n",
    "bag.append(\"diaper\")\n",
    "print(bag)\n",
    "print(bag)\n",
    "extra_bag = bag.copy()\n",
    "extra_bag == bag\n",
    "extra_bag.count(\"mouse\")\n",
    "extra_bag.insert(0,\"mouse\")\n",
    "extra_bag.insert(2,\"mouse\")\n",
    "extra_bag.insert(4,\"mouse\")\n",
    "print(extra_bag)\n",
    "extra_bag.count(\"mouse\")\n",
    "extra_bag.clear()  \n",
    "print(extra_bag)   "
   ]
  },
  {
   "cell_type": "code",
   "execution_count": 53,
   "metadata": {},
   "outputs": [
    {
     "name": "stdout",
     "output_type": "stream",
     "text": [
      "Emmanuel\n",
      "<function change_name at 0x0000018A6FFB3240>\n"
     ]
    }
   ],
   "source": [
    "name = \"Fubara\"\n",
    "\n",
    "def change_name(name):\n",
    "    print(name)\n",
    "    \n",
    "    \n",
    "change_name('Emmanuel')\n",
    "print(change_name)\n",
    "    "
   ]
  },
  {
   "cell_type": "code",
   "execution_count": 56,
   "metadata": {},
   "outputs": [
    {
     "name": "stdout",
     "output_type": "stream",
     "text": [
      "0\n",
      "2\n",
      "4\n",
      "6\n",
      "8\n"
     ]
    }
   ],
   "source": [
    "for number in range(0,10,2):\n",
    "   print(number)"
   ]
  },
  {
   "cell_type": "code",
   "execution_count": 66,
   "metadata": {},
   "outputs": [
    {
     "name": "stdout",
     "output_type": "stream",
     "text": [
      "Student score cannot be greater than 100\n"
     ]
    }
   ],
   "source": [
    "score = int(input(\"Enter student score: \"))\n",
    "\n",
    "if score > 100:\n",
    "    print(\"Student score cannot be greater than 100\")\n",
    "else:    \n",
    "    if score >= 40 and score  <= 50:\n",
    "        print(\"student's grade is D\")\n",
    "        \n",
    "    elif score >= 51 and score <= 60:\n",
    "        print(\"student's grade is C\")\n",
    "        \n",
    "    elif score >= 61 and score <= 75:\n",
    "        print(\"student's grade is B\")\n",
    "        \n",
    "    elif score >= 76 and score <= 100:\n",
    "        print(\"student's grade is A\")\n",
    "        \n",
    "    else:\n",
    "        print(\"Failed\")    \n",
    "        \n",
    "\n"
   ]
  },
  {
   "cell_type": "code",
   "execution_count": 81,
   "metadata": {},
   "outputs": [],
   "source": [
    "def gradingSystem(score):\n",
    "    if score > 100:\n",
    "       print(\"Student score cannot be greater than 100\")\n",
    "    else:    \n",
    "      if score >= 40 and score  <= 50:\n",
    "        print(\"student's grade is D\")\n",
    "        \n",
    "      elif score >= 51 and score <= 60:\n",
    "        print(\"student's grade is C\")\n",
    "        \n",
    "      elif score >= 61 and score <= 75:\n",
    "        print(\"student's grade is B\")\n",
    "        \n",
    "      elif score >= 76 and score <= 100:\n",
    "        print(\"student's grade is A\")\n",
    "        \n",
    "      else:\n",
    "        print(\"Failed\") \n",
    "        "
   ]
  },
  {
   "cell_type": "code",
   "execution_count": 70,
   "metadata": {},
   "outputs": [
    {
     "name": "stdout",
     "output_type": "stream",
     "text": [
      "student's grade is A\n"
     ]
    }
   ],
   "source": [
    "score = int(input(\"Enter student score: \"))    \n",
    "gradingSystem(score) "
   ]
  },
  {
   "cell_type": "code",
   "execution_count": 88,
   "metadata": {},
   "outputs": [],
   "source": [
    "students = {\n",
    "        \"Alice\": 45,\n",
    "        \"Bob\": 55,\n",
    "        \"Emma\": 65,\n",
    "        \"Greg\": 75,\n",
    "        \"Eve\":95\n",
    "    }                 \n",
    "    "
   ]
  },
  {
   "cell_type": "code",
   "execution_count": 91,
   "metadata": {},
   "outputs": [
    {
     "name": "stdout",
     "output_type": "stream",
     "text": [
      "Alice\n",
      "45\n",
      "student's grade is D\n",
      "\n",
      "\n",
      "Bob\n",
      "55\n",
      "student's grade is C\n",
      "\n",
      "\n",
      "Emma\n",
      "65\n",
      "student's grade is B\n",
      "\n",
      "\n",
      "Greg\n",
      "75\n",
      "student's grade is B\n",
      "\n",
      "\n",
      "Eve\n",
      "95\n",
      "student's grade is A\n",
      "\n",
      "\n"
     ]
    }
   ],
   "source": [
    "for name,score in students.items():\n",
    "    print(name)\n",
    "    print(score)\n",
    "    gradingSystem(score)\n",
    "    print(\"\\n\")"
   ]
  },
  {
   "cell_type": "code",
   "execution_count": 76,
   "metadata": {},
   "outputs": [
    {
     "ename": "AttributeError",
     "evalue": "'int' object has no attribute 'items'",
     "output_type": "error",
     "traceback": [
      "\u001b[1;31m---------------------------------------------------------------------------\u001b[0m",
      "\u001b[1;31mAttributeError\u001b[0m                            Traceback (most recent call last)",
      "\u001b[1;32mc:\\Users\\God is Great\\Documents\\py_class\\intro_to_function.ipynb Cell 10\u001b[0m line \u001b[0;36m2\n\u001b[0;32m      <a href='vscode-notebook-cell:/c%3A/Users/God%20is%20Great/Documents/py_class/intro_to_function.ipynb#X14sZmlsZQ%3D%3D?line=0'>1</a>\u001b[0m students \u001b[39m=\u001b[39m \u001b[39mint\u001b[39m(\u001b[39minput\u001b[39m(\u001b[39m\"\u001b[39m\u001b[39mEnter student score: \u001b[39m\u001b[39m\"\u001b[39m))    \n\u001b[1;32m----> <a href='vscode-notebook-cell:/c%3A/Users/God%20is%20Great/Documents/py_class/intro_to_function.ipynb#X14sZmlsZQ%3D%3D?line=1'>2</a>\u001b[0m studentGrade(students)\n",
      "\u001b[1;32mc:\\Users\\God is Great\\Documents\\py_class\\intro_to_function.ipynb Cell 10\u001b[0m line \u001b[0;36m4\n\u001b[0;32m      <a href='vscode-notebook-cell:/c%3A/Users/God%20is%20Great/Documents/py_class/intro_to_function.ipynb#X14sZmlsZQ%3D%3D?line=2'>3</a>\u001b[0m \u001b[39mdef\u001b[39;00m \u001b[39mstudentGrade\u001b[39m(students):\n\u001b[1;32m----> <a href='vscode-notebook-cell:/c%3A/Users/God%20is%20Great/Documents/py_class/intro_to_function.ipynb#X14sZmlsZQ%3D%3D?line=3'>4</a>\u001b[0m     \u001b[39mfor\u001b[39;00m name, students \u001b[39min\u001b[39;00m students\u001b[39m.\u001b[39;49mitems():\n\u001b[0;32m      <a href='vscode-notebook-cell:/c%3A/Users/God%20is%20Great/Documents/py_class/intro_to_function.ipynb#X14sZmlsZQ%3D%3D?line=4'>5</a>\u001b[0m         \u001b[39mif\u001b[39;00m \u001b[39m90\u001b[39m \u001b[39m<\u001b[39m\u001b[39m=\u001b[39m students \u001b[39m<\u001b[39m\u001b[39m=\u001b[39m \u001b[39m100\u001b[39m:\n\u001b[0;32m      <a href='vscode-notebook-cell:/c%3A/Users/God%20is%20Great/Documents/py_class/intro_to_function.ipynb#X14sZmlsZQ%3D%3D?line=5'>6</a>\u001b[0m             \u001b[39mprint\u001b[39m(\u001b[39m\"\u001b[39m\u001b[39mstudent\u001b[39m\u001b[39m'\u001b[39m\u001b[39ms grade is A\u001b[39m\u001b[39m\"\u001b[39m)\n",
      "\u001b[1;31mAttributeError\u001b[0m: 'int' object has no attribute 'items'"
     ]
    }
   ],
   "source": [
    "\n",
    "print(f\"students: {name} score: {score}, Grade : {Grade}\")    \n",
    "studentGrade(students)\n",
    " "
   ]
  }
 ],
 "metadata": {
  "kernelspec": {
   "display_name": "Python 3",
   "language": "python",
   "name": "python3"
  },
  "language_info": {
   "codemirror_mode": {
    "name": "ipython",
    "version": 3
   },
   "file_extension": ".py",
   "mimetype": "text/x-python",
   "name": "python",
   "nbconvert_exporter": "python",
   "pygments_lexer": "ipython3",
   "version": "3.11.5"
  },
  "orig_nbformat": 4
 },
 "nbformat": 4,
 "nbformat_minor": 2
}
