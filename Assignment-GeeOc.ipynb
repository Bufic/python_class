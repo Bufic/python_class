{
 "cells": [
  {
   "cell_type": "code",
   "execution_count": 4,
   "metadata": {},
   "outputs": [
    {
     "name": "stdout",
     "output_type": "stream",
     "text": [
      "8\n",
      "12\n"
     ]
    }
   ],
   "source": [
    "# Area of rectangle\n",
    "#area = l * b\n",
    "\n",
    "\n",
    "length = int(input(\"Enter length: \"))\n",
    "breath = int(input(\"Enter breath: \"))\n",
    "\n",
    "area = length * breath\n",
    "perimeter = 2 * (length + breath)\n",
    "\n",
    "print(area)\n",
    "print(perimeter)"
   ]
  },
  {
   "cell_type": "code",
   "execution_count": 15,
   "metadata": {},
   "outputs": [
    {
     "name": "stdout",
     "output_type": "stream",
     "text": [
      "['Pear', 'Banana', 'Guava', 'Orange', 'Mango']\n"
     ]
    }
   ],
   "source": [
    "#create a list containing the names of five different fruit\n",
    "\n",
    "fruits_list = ['Mango', 'Orange', 'Guava', 'Banana', 'Pear']\n",
    "fruits_list.reverse()\n",
    "\n",
    "print(fruits_list)\n"
   ]
  },
  {
   "cell_type": "code",
   "execution_count": 19,
   "metadata": {},
   "outputs": [
    {
     "name": "stdout",
     "output_type": "stream",
     "text": [
      "212.0\n"
     ]
    }
   ],
   "source": [
    "# convert celcius to fahrenheit\n",
    "# to convert Celcius to Fahrenheit (multiply by 1.8 and add 32)\n",
    "\n",
    "def temperature():\n",
    "    celcius = int(input('Enter temperature in celcius: '))\n",
    "    fahrenheit = celcius * 1.8 + 32\n",
    "    \n",
    "    print(fahrenheit)\n",
    "    \n",
    "temperature()    "
   ]
  },
  {
   "cell_type": "code",
   "execution_count": 21,
   "metadata": {},
   "outputs": [
    {
     "name": "stdout",
     "output_type": "stream",
     "text": [
      "6105.100000000006\n"
     ]
    }
   ],
   "source": [
    "# Compound interest\n",
    "# compound interest = P(1 + r/n) ** nt - p\n",
    "# here n == 1\n",
    "\n",
    "principal = int(input('Enter principal amount: '))\n",
    "rate = int(input('Enter annual rate: '))\n",
    "time = int(input('Enter tenure: '))\n",
    "\n",
    "r = rate / 100\n",
    "\n",
    "compound_amount = principal * (1 + r) ** time\n",
    "compound_interest = compound_amount - principal\n",
    "\n",
    "print(compound_interest)\n"
   ]
  },
  {
   "cell_type": "code",
   "execution_count": 23,
   "metadata": {},
   "outputs": [
    {
     "name": "stdout",
     "output_type": "stream",
     "text": [
      "roof = tiles\n",
      "floor = zinc\n"
     ]
    }
   ],
   "source": [
    "# Swapping variables\n",
    "\n",
    "roof = 'zinc'\n",
    "floor = 'tiles'\n",
    "\n",
    "roof, floor = floor, roof\n",
    "\n",
    "print('roof =', roof)\n",
    "print('floor =', floor)"
   ]
  },
  {
   "cell_type": "code",
   "execution_count": 26,
   "metadata": {},
   "outputs": [
    {
     "name": "stdout",
     "output_type": "stream",
     "text": [
      "Eligible to vote\n"
     ]
    }
   ],
   "source": [
    "# Voter's Age\n",
    "\n",
    "age = int(input('enter your age: '))\n",
    "\n",
    "if age >= 18:\n",
    "    print('Eligible to vote')\n",
    "else:\n",
    "    print('Ineligible to vote')    \n"
   ]
  }
 ],
 "metadata": {
  "kernelspec": {
   "display_name": ".venv",
   "language": "python",
   "name": "python3"
  },
  "language_info": {
   "codemirror_mode": {
    "name": "ipython",
    "version": 3
   },
   "file_extension": ".py",
   "mimetype": "text/x-python",
   "name": "python",
   "nbconvert_exporter": "python",
   "pygments_lexer": "ipython3",
   "version": "3.11.5"
  },
  "orig_nbformat": 4
 },
 "nbformat": 4,
 "nbformat_minor": 2
}
