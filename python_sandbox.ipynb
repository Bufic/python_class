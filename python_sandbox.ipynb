{
 "cells": [
  {
   "cell_type": "code",
   "execution_count": 2,
   "metadata": {},
   "outputs": [
    {
     "data": {
      "text/plain": [
       "30"
      ]
     },
     "execution_count": 2,
     "metadata": {},
     "output_type": "execute_result"
    }
   ],
   "source": [
    "(2 + 3) * 6\n",
    "\n"
   ]
  },
  {
   "cell_type": "code",
   "execution_count": 60,
   "metadata": {},
   "outputs": [
    {
     "name": "stdout",
     "output_type": "stream",
     "text": [
      "<class 'list'>\n",
      "[]\n"
     ]
    }
   ],
   "source": [
    "# Empty list\n",
    "empty = []\n",
    "print(type(empty))\n",
    "print(empty)"
   ]
  },
  {
   "cell_type": "code",
   "execution_count": 27,
   "metadata": {},
   "outputs": [
    {
     "name": "stdout",
     "output_type": "stream",
     "text": [
      "['enny', '100', 'bola', 30.6, 'fubara', True, 'eghe', False]\n",
      "False\n"
     ]
    }
   ],
   "source": [
    "my_var = [\"enny\", \"100\", \"bola\", 30.6, \"fubara\", True, False]\n",
    "my_var.insert(-1, \"eghe\")\n",
    "print(my_var)\n",
    "print(my_var[-1])"
   ]
  },
  {
   "cell_type": "code",
   "execution_count": 19,
   "metadata": {},
   "outputs": [
    {
     "name": "stdout",
     "output_type": "stream",
     "text": [
      "7\n"
     ]
    }
   ],
   "source": [
    "size = len(my_var)\n",
    "print(size)"
   ]
  },
  {
   "cell_type": "code",
   "execution_count": 25,
   "metadata": {},
   "outputs": [
    {
     "name": "stdout",
     "output_type": "stream",
     "text": [
      "[5, 8, 10, 13, 17, 20]\n"
     ]
    }
   ],
   "source": [
    "# sort list with sorted method\n",
    "my_var2 = [20, 10, 5, 17, 13, 8]\n",
    "my_var2.sort()\n",
    "print(my_var2)"
   ]
  },
  {
   "cell_type": "code",
   "execution_count": 26,
   "metadata": {},
   "outputs": [
    {
     "name": "stdout",
     "output_type": "stream",
     "text": [
      "[5, 8, 10, 13, 17, 20]\n",
      "[20, 10, 5, 17, 13, 8]\n"
     ]
    }
   ],
   "source": [
    "#sorted list with function sorted\n",
    "my_var2 = [20, 10, 5, 17, 13, 8]\n",
    "sorted_list = sorted(my_var2)\n",
    "print(sorted_list)\n",
    "print(my_var2)"
   ]
  },
  {
   "cell_type": "code",
   "execution_count": 28,
   "metadata": {},
   "outputs": [
    {
     "name": "stdout",
     "output_type": "stream",
     "text": [
      "[20, 17, 13, 10, 8, 5]\n"
     ]
    }
   ],
   "source": [
    "# Reverse a list using sorted method\n",
    "my_var2 = [20, 10, 5, 17, 13, 8]\n",
    "reverse = sorted(my_var2, reverse = True)\n",
    "print(reverse)"
   ]
  },
  {
   "cell_type": "code",
   "execution_count": 56,
   "metadata": {},
   "outputs": [
    {
     "name": "stdout",
     "output_type": "stream",
     "text": [
      "[1, 2, 3, 4, 5, 6, [7, 8, 9, 10]]\n",
      "[7, 8, 9, 10]\n",
      "8\n",
      "10\n"
     ]
    }
   ],
   "source": [
    "# Adding a list to a list\n",
    "\n",
    "var1 = [1,2,3,4,5,6]\n",
    "var2 = [7,8,9,10]\n",
    "\n",
    "var1.append(var2)\n",
    "print(var1)\n",
    "print(var1[-1])\n",
    "\n",
    "# assignment to print out 8 & 9\n",
    "print(var1[6] [1])\n",
    "print(var1[6] [3])\n"
   ]
  },
  {
   "cell_type": "code",
   "execution_count": 46,
   "metadata": {},
   "outputs": [
    {
     "name": "stdout",
     "output_type": "stream",
     "text": [
      "[1, 2, 3, 4, 5, 6, 7, 8, 9, 10]\n"
     ]
    }
   ],
   "source": [
    "# Adding lists using extended method\n",
    "\n",
    "var1 = [1,2,3,4,5,6]\n",
    "var2 = [7,8,9,10]\n",
    "var1.extend(var2)\n",
    "print(var1)"
   ]
  },
  {
   "cell_type": "code",
   "execution_count": 47,
   "metadata": {},
   "outputs": [
    {
     "name": "stdout",
     "output_type": "stream",
     "text": [
      "[1, 2, 3, 4, 5, 6, 7, 8, 9, 10]\n"
     ]
    }
   ],
   "source": [
    "#copy a list using copy method\n",
    "\n",
    "var3 = var1.copy()\n",
    "print(var3)"
   ]
  },
  {
   "cell_type": "code",
   "execution_count": 48,
   "metadata": {},
   "outputs": [
    {
     "name": "stdout",
     "output_type": "stream",
     "text": [
      "10\n",
      "[1, 2, 3, 4, 5, 6, 7, 8, 9]\n"
     ]
    }
   ],
   "source": [
    "# deleting an item from a list using pop method\n",
    "\n",
    "item_popped = var1.pop()\n",
    "print(item_popped)\n",
    "print(var1)"
   ]
  },
  {
   "cell_type": "code",
   "execution_count": 49,
   "metadata": {},
   "outputs": [
    {
     "name": "stdout",
     "output_type": "stream",
     "text": [
      "[1, 2, 3, 4, 5, 6, 7, 8, 9]\n",
      "[1, 2, 3, 4, 5, 7, 8, 9]\n"
     ]
    }
   ],
   "source": [
    "# deleting an item from list with using remove method\n",
    "print(var1)\n",
    "var1.remove(6)\n",
    "\n",
    "print(var1)"
   ]
  },
  {
   "cell_type": "code",
   "execution_count": 50,
   "metadata": {},
   "outputs": [
    {
     "name": "stdout",
     "output_type": "stream",
     "text": [
      "[1, 2, 3, 4, 5, 7, 8, 9]\n",
      "[1, 2, 3, 5, 7, 8, 9]\n"
     ]
    }
   ],
   "source": [
    "# deleting using del keyword\n",
    "print(var1)\n",
    "del var1[3]\n",
    "print(var1)"
   ]
  },
  {
   "cell_type": "code",
   "execution_count": 53,
   "metadata": {},
   "outputs": [
    {
     "name": "stdout",
     "output_type": "stream",
     "text": [
      "[5, 7]\n",
      "[3, 4, 5, 7, 8, 9, 10, 11]\n"
     ]
    }
   ],
   "source": [
    "# how slicing works\n",
    "var1 = [1, 2, 3, 4, 5, 7, 8, 9, 10, 11]\n",
    "\n",
    "print(var1[4:6])\n",
    "print(var1[2:])"
   ]
  },
  {
   "cell_type": "code",
   "execution_count": 57,
   "metadata": {},
   "outputs": [
    {
     "name": "stdout",
     "output_type": "stream",
     "text": [
      "2\n"
     ]
    }
   ],
   "source": [
    "# Tuple is immutable, once created, you cant change its value\n",
    "# empty tuple\n",
    "mytup = (2)\n",
    "print(mytup)\n",
    "\n",
    "\n"
   ]
  },
  {
   "cell_type": "code",
   "execution_count": 59,
   "metadata": {},
   "outputs": [],
   "source": [
    "# tryin to change a tuples value\n",
    "\n",
    "mytup1 = (3, 4, 5, 7, 8, 9, 10, 11)\n",
    "#mytup1[2] = 34\n",
    "#print(mytup1)"
   ]
  },
  {
   "cell_type": "code",
   "execution_count": null,
   "metadata": {},
   "outputs": [],
   "source": []
  }
 ],
 "metadata": {
  "kernelspec": {
   "display_name": "Python 3",
   "language": "python",
   "name": "python3"
  },
  "language_info": {
   "codemirror_mode": {
    "name": "ipython",
    "version": 3
   },
   "file_extension": ".py",
   "mimetype": "text/x-python",
   "name": "python",
   "nbconvert_exporter": "python",
   "pygments_lexer": "ipython3",
   "version": "3.11.5"
  },
  "orig_nbformat": 4
 },
 "nbformat": 4,
 "nbformat_minor": 2
}
